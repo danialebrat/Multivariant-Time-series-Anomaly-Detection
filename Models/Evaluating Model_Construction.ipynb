{
 "cells": [
  {
   "cell_type": "code",
   "execution_count": 12,
   "id": "4d80cfec",
   "metadata": {},
   "outputs": [],
   "source": [
    "import numpy as np\n",
    "import pandas as pd\n",
    "import matplotlib.pyplot as plt\n",
    "from tensorflow.keras.models import load_model\n",
    "import gc"
   ]
  },
  {
   "cell_type": "code",
   "execution_count": 13,
   "id": "284da5e1",
   "metadata": {},
   "outputs": [],
   "source": [
    "model = load_model(\"weights.h5\")"
   ]
  },
  {
   "cell_type": "code",
   "execution_count": 14,
   "id": "59cbfd69",
   "metadata": {},
   "outputs": [],
   "source": [
    "\n",
    "PLOT_PATH = \"plot_fig/\"\n",
    "\n",
    "\n",
    "plot_size = 8"
   ]
  },
  {
   "cell_type": "code",
   "execution_count": 15,
   "id": "281aa147",
   "metadata": {},
   "outputs": [],
   "source": [
    "def break_path(path):\n",
    "    \n",
    "    x = []\n",
    "    y = []\n",
    "    \n",
    "    for i in path:\n",
    "        \n",
    "        x.append(i[0])\n",
    "        y.append(i[1])\n",
    "    \n",
    "    return np.array(x), np.array(y)\n",
    "        "
   ]
  },
  {
   "cell_type": "code",
   "execution_count": 16,
   "id": "a9ead237",
   "metadata": {},
   "outputs": [],
   "source": [
    "def Plotting(x, predicted, file_name, main_path):\n",
    "     \n",
    "        \n",
    "        \n",
    "    x_real, y_real = break_path(x)\n",
    "    \n",
    "    x_predicted, y_predicted = break_path(predicted)\n",
    " \n",
    "       \n",
    "    # Plotting Trajectory path with stop points   \n",
    "    plt.title(file_name, fontsize=plot_size*2)\n",
    "    \n",
    "    plt.scatter(x_real, y_real, color=\"darkorange\", marker=\"o\", s= plot_size*15)\n",
    "    plt.quiver(x_real[:-1], y_real[:-1], x_real[1:]-x_real[:-1], y_real[1:]-y_real[:-1], scale_units='xy', angles='xy', scale=1, color=\"gray\", width=0.004)\n",
    "    \n",
    "    plt.scatter(x_predicted, y_predicted, color=\"c\", marker=\"o\", s= plot_size*15)\n",
    "    plt.quiver(x_predicted[:-1], y_predicted[:-1], x_predicted[1:]-x_predicted[:-1], y_predicted[1:]-y_predicted[:-1], scale_units='xy', angles='xy', scale=1, color=\"gray\", width=0.004)  \n",
    "    \n",
    "    plt.xlabel(\"Long\", fontsize=20)\n",
    "    plt.ylabel(\"Lat\", fontsize=20)  \n",
    "       \n",
    "    fname = main_path + str(file_name) + \".png\"\n",
    "       \n",
    "    plt.savefig(fname, dpi=100)  \n",
    "    plt.close('all')\n",
    "    \n",
    "    del x_real, y_real, x_predicted, y_predicted\n",
    "    gc.collect()\n",
    "    "
   ]
  },
  {
   "cell_type": "code",
   "execution_count": 17,
   "id": "51af3af8",
   "metadata": {
    "scrolled": true
   },
   "outputs": [],
   "source": [
    "if __name__ == \"__main__\":\n",
    "    \n",
    "    path = np.load(\"test.npy\")\n",
    "    \n",
    "    predict = model.predict(path)\n",
    "    \n",
    "    index = 1\n",
    "    \n",
    "    for i in range(len(path)):\n",
    "        \n",
    "        x = path[i]     \n",
    "        predicted = predict[i]\n",
    "        \n",
    "        Plotting(x, predicted, index, main_path = PLOT_PATH)\n",
    "        \n",
    "        index += 1\n",
    "        \n",
    "    \n",
    "\n",
    "    \n",
    "    \n",
    "    "
   ]
  },
  {
   "cell_type": "code",
   "execution_count": null,
   "id": "b074520a",
   "metadata": {},
   "outputs": [],
   "source": []
  },
  {
   "cell_type": "code",
   "execution_count": null,
   "id": "66c00ab5",
   "metadata": {},
   "outputs": [],
   "source": []
  },
  {
   "cell_type": "code",
   "execution_count": null,
   "id": "8bd71038",
   "metadata": {},
   "outputs": [],
   "source": []
  }
 ],
 "metadata": {
  "kernelspec": {
   "display_name": "Python 3 (ipykernel)",
   "language": "python",
   "name": "python3"
  },
  "language_info": {
   "codemirror_mode": {
    "name": "ipython",
    "version": 3
   },
   "file_extension": ".py",
   "mimetype": "text/x-python",
   "name": "python",
   "nbconvert_exporter": "python",
   "pygments_lexer": "ipython3",
   "version": "3.9.5"
  }
 },
 "nbformat": 4,
 "nbformat_minor": 5
}
