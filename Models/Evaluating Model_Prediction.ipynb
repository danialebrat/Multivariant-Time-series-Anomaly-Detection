{
 "cells": [
  {
   "cell_type": "code",
   "execution_count": 1,
   "id": "4d80cfec",
   "metadata": {},
   "outputs": [],
   "source": [
    "import numpy as np\n",
    "import pandas as pd\n",
    "import matplotlib.pyplot as plt\n",
    "from tensorflow.keras.models import load_model\n",
    "import gc"
   ]
  },
  {
   "cell_type": "code",
   "execution_count": 2,
   "id": "284da5e1",
   "metadata": {},
   "outputs": [],
   "source": [
    "model = load_model(\"weights.h5\")"
   ]
  },
  {
   "cell_type": "code",
   "execution_count": 3,
   "id": "59cbfd69",
   "metadata": {},
   "outputs": [],
   "source": [
    "\n",
    "PLOT_PATH = \"plot_fig/\"\n",
    "\n",
    "\n",
    "plot_size = 8"
   ]
  },
  {
   "cell_type": "code",
   "execution_count": 4,
   "id": "281aa147",
   "metadata": {},
   "outputs": [],
   "source": [
    "def break_path(path):\n",
    "    \n",
    "    x = []\n",
    "    y = []\n",
    "    \n",
    "    for i in path:\n",
    "        \n",
    "        x.append(i[0])\n",
    "        y.append(i[1])\n",
    "    \n",
    "    return np.array(x), np.array(y)\n",
    "        "
   ]
  },
  {
   "cell_type": "code",
   "execution_count": 5,
   "id": "a9ead237",
   "metadata": {},
   "outputs": [],
   "source": [
    "def Plotting(x, y, predicted, file_name, main_path):\n",
    "     \n",
    "        \n",
    "        \n",
    "    x_past, y_past = break_path(x)\n",
    "    \n",
    "    x_future, y_future = break_path(y)\n",
    "    \n",
    "    x_predicted, y_predicted = break_path(predicted)\n",
    " \n",
    "       \n",
    "    # Plotting Trajectory path with stop points   \n",
    "    plt.title(file_name, fontsize=plot_size*2)\n",
    "    \n",
    "    plt.scatter(x_past, y_past, color=\"darkorange\", marker=\"o\", s= plot_size*15)\n",
    "    plt.quiver(x_past[:-1], y_past[:-1], x_past[1:]-x_past[:-1], y_past[1:]-y_past[:-1], scale_units='xy', angles='xy', scale=1, color=\"gray\", width=0.004)\n",
    "    \n",
    "    plt.scatter(x_future, y_future, color=\"green\", marker=\"o\", s= plot_size*15)\n",
    "    plt.quiver(x_future[:-1], y_future[:-1], x_future[1:]-x_future[:-1], y_future[1:]-y_future[:-1], scale_units='xy', angles='xy', scale=1, color=\"gray\", width=0.004)\n",
    "    \n",
    "    plt.scatter(x_predicted, y_predicted, color=\"r\", marker=\"o\", s= plot_size*15)\n",
    "    plt.quiver(x_predicted[:-1], y_predicted[:-1], x_predicted[1:]-x_predicted[:-1], y_predicted[1:]-y_predicted[:-1], scale_units='xy', angles='xy', scale=1, color=\"r\", width=0.004)  \n",
    "    \n",
    "    plt.xlabel(\"Long\", fontsize=20)\n",
    "    plt.ylabel(\"Lat\", fontsize=20)  \n",
    "       \n",
    "    fname = main_path + str(file_name) + \".png\"\n",
    "       \n",
    "    plt.savefig(fname, dpi=100)  \n",
    "    plt.close('all')\n",
    "    \n",
    "    del x_past, y_past, x_future, y_future, x_predicted, y_predicted\n",
    "    gc.collect()\n",
    "    "
   ]
  },
  {
   "cell_type": "code",
   "execution_count": 6,
   "id": "51af3af8",
   "metadata": {
    "scrolled": true
   },
   "outputs": [],
   "source": [
    "if __name__ == \"__main__\":\n",
    "    \n",
    "    X = np.load(\"x_test.npy\")\n",
    "    Y = np.load(\"y_test.npy\")\n",
    "    \n",
    "    predict = model.predict(X)\n",
    "    \n",
    "    index = 1\n",
    "    \n",
    "    for i in range(len(X)):\n",
    "        \n",
    "        x = X[i]\n",
    "        y = Y[i]      \n",
    "        predicted = predict[i]\n",
    "        \n",
    "        Plotting(x, y, predicted, index, main_path = PLOT_PATH)\n",
    "        \n",
    "        index += 1\n",
    "        \n",
    "    \n",
    "\n",
    "    \n",
    "    \n",
    "    "
   ]
  },
  {
   "cell_type": "code",
   "execution_count": null,
   "id": "b074520a",
   "metadata": {},
   "outputs": [],
   "source": []
  },
  {
   "cell_type": "code",
   "execution_count": null,
   "id": "66c00ab5",
   "metadata": {},
   "outputs": [],
   "source": []
  },
  {
   "cell_type": "code",
   "execution_count": null,
   "id": "8bd71038",
   "metadata": {},
   "outputs": [],
   "source": []
  }
 ],
 "metadata": {
  "kernelspec": {
   "display_name": "Python 3 (ipykernel)",
   "language": "python",
   "name": "python3"
  },
  "language_info": {
   "codemirror_mode": {
    "name": "ipython",
    "version": 3
   },
   "file_extension": ".py",
   "mimetype": "text/x-python",
   "name": "python",
   "nbconvert_exporter": "python",
   "pygments_lexer": "ipython3",
   "version": "3.9.5"
  }
 },
 "nbformat": 4,
 "nbformat_minor": 5
}
